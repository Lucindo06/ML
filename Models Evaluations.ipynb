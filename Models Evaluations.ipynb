{
 "cells": [
  {
   "cell_type": "markdown",
   "metadata": {},
   "source": [
    "**Usual imports**"
   ]
  },
  {
   "cell_type": "code",
   "execution_count": 1,
   "metadata": {
    "collapsed": false
   },
   "outputs": [
    {
     "name": "stderr",
     "output_type": "stream",
     "text": [
      "Vendor:  Continuum Analytics, Inc.\n",
      "Package: mkl\n",
      "Message: trial mode expires in 30 days\n",
      "Vendor:  Continuum Analytics, Inc.\n",
      "Package: mkl\n",
      "Message: trial mode expires in 30 days\n"
     ]
    }
   ],
   "source": [
    "from __future__ import division, print_function\n",
    "%matplotlib inline\n",
    "\n",
    "import itertools\n",
    "import sklearn\n",
    "\n",
    "import numpy as np\n",
    "import pandas as pd\n",
    "import sklearn.cross_validation as cv\n",
    "import matplotlib as mplt\n",
    "import matplotlib.pyplot as plt\n",
    "import matplotlib.patches as mpatches\n"
   ]
  },
  {
   "cell_type": "code",
   "execution_count": 2,
   "metadata": {
    "collapsed": true
   },
   "outputs": [],
   "source": [
    "# verbose level to handle prints\n",
    "verbose = 1"
   ]
  },
  {
   "cell_type": "markdown",
   "metadata": {},
   "source": [
    "# Load the Data\n",
    "\n",
    "Remind here what it is."
   ]
  },
  {
   "cell_type": "code",
   "execution_count": 3,
   "metadata": {
    "collapsed": false
   },
   "outputs": [
    {
     "name": "stdout",
     "output_type": "stream",
     "text": [
      "Classes : Class_1, Class_2, Class_3, Class_4, Class_5, Class_6, Class_7, Class_8, Class_9\n",
      "Classes codes : 0, 1, 2, 3, 4, 5, 6, 7, 8\n"
     ]
    }
   ],
   "source": [
    "from sklearn.preprocessing import LabelEncoder\n",
    "filename = \"Data/train.csv\"\n",
    "data = pd.read_csv(filename, index_col=0)\n",
    "X = np.array(data.ix[:,0:-1])\n",
    "y = np.array(data.ix[:,-1])\n",
    "classes = np.unique(y)\n",
    "y = LabelEncoder().fit_transform(y)\n",
    "\n",
    "if verbose : \n",
    "    print(\"Classes :\",\", \".join(classes))\n",
    "    print(\"Classes codes :\",\", \".join([str(c) for c in np.unique(y)]))\n"
   ]
  },
  {
   "cell_type": "markdown",
   "metadata": {},
   "source": [
    "## Preprocessing\n",
    "\n",
    "Remind here what and why."
   ]
  },
  {
   "cell_type": "code",
   "execution_count": 4,
   "metadata": {
    "collapsed": false
   },
   "outputs": [],
   "source": [
    "#X = np.log(1+X)"
   ]
  },
  {
   "cell_type": "markdown",
   "metadata": {},
   "source": [
    "## Spliting the data\n",
    "\n",
    "Cross-validation, Validation set, etc."
   ]
  },
  {
   "cell_type": "code",
   "execution_count": 5,
   "metadata": {
    "collapsed": false
   },
   "outputs": [],
   "source": [
    "# 10 folds-cross validation :\n",
    "kfold = cv.StratifiedKFold(y,\n",
    "                           n_folds=10,\n",
    "                           shuffle=True,\n",
    "                           random_state=0)\n",
    "# iterator : return train_idx, test_idx with 9 folds in train and 1 in test"
   ]
  },
  {
   "cell_type": "markdown",
   "metadata": {},
   "source": [
    "# Models\n",
    "\n",
    "What model are used and why.\n"
   ]
  },
  {
   "cell_type": "code",
   "execution_count": 6,
   "metadata": {
    "collapsed": false
   },
   "outputs": [],
   "source": [
    "# TREES \n",
    "from sklearn.tree import DecisionTreeClassifier\n",
    "\n",
    "trees = [DecisionTreeClassifier(max_depth=10),\n",
    "         DecisionTreeClassifier(max_depth=100),\n",
    "         DecisionTreeClassifier(max_depth=1000)]\n",
    "trees_names = [\n",
    "    \"Tree-10\",\n",
    "    \"Tree-100\",\n",
    "    \"Tree-1000\",\n",
    "]"
   ]
  },
  {
   "cell_type": "code",
   "execution_count": 7,
   "metadata": {
    "collapsed": true
   },
   "outputs": [],
   "source": [
    "# SVMs\n",
    "from sklearn.svm import SVC\n",
    "\n",
    "svm = [SVC(),\n",
    "      ]\n",
    "svm_names = [\n",
    "    \"SVM\",\n",
    "    ]"
   ]
  },
  {
   "cell_type": "code",
   "execution_count": 8,
   "metadata": {
    "collapsed": false
   },
   "outputs": [],
   "source": [
    "# RANDOM FORESTS\n",
    "from sklearn.ensemble import RandomForestClassifier\n",
    "\n",
    "rf = [RandomForestClassifier(n_estimators=10),\n",
    "      RandomForestClassifier(n_estimators=50),\n",
    "      RandomForestClassifier(n_estimators=100),\n",
    "     ]\n",
    "rf_names = [\n",
    "    \"RF-10\",\n",
    "    \"RF-50\",\n",
    "    \"RF-100\",\n",
    "    ]"
   ]
  },
  {
   "cell_type": "code",
   "execution_count": 9,
   "metadata": {
    "collapsed": true
   },
   "outputs": [],
   "source": [
    "# Naive Bayes\n",
    "from sklearn.naive_bayes import GaussianNB, BernoulliNB\n",
    "\n",
    "bayes = [GaussianNB(),\n",
    "         BernoulliNB()\n",
    "        ]\n",
    "bayes_names = [\n",
    "    \"GausianNB\",\n",
    "    \"BernoulliNB\",\n",
    "]"
   ]
  },
  {
   "cell_type": "markdown",
   "metadata": {},
   "source": [
    "## Les notres\n"
   ]
  },
  {
   "cell_type": "code",
   "execution_count": 10,
   "metadata": {
    "collapsed": false
   },
   "outputs": [],
   "source": [
    "from gauss_nb import GBayes\n",
    "from kmean import Kmeans\n",
    "from multi_perceptron import mPerceptron\n",
    "from sklearn.pipeline import Pipeline\n",
    "\n",
    "\n",
    "ours = [GBayes(),\n",
    "        Pipeline( [(\"Kmeans\", Kmeans(10)), \n",
    "                   (\"mPerceptron\", mPerceptron(0.25, 50))] ),\n",
    "        Pipeline( [(\"Kmeans\", Kmeans(20)), \n",
    "                   (\"mPerceptron\", mPerceptron(0.25, 50))] ),\n",
    "        mPerceptron(0.25, 30),\n",
    "        mPerceptron(0.25, 50),\n",
    "        mPerceptron(0.15, 30),\n",
    "        mPerceptron(0.3, 100),\n",
    "       ]\n",
    "ours_names = [\n",
    "    \"GBayes\",\n",
    "    \"10-means-MPerceptron-0.25-50\",\n",
    "    \"20-means-MPerceptron-0.25-50\",\n",
    "    \"MPerceptron-0.25-30\",\n",
    "    \"MPerceptron-0.25-50\",\n",
    "    \"MPerceptron-0.15-30\",\n",
    "    \"MPerceptron-0.3-100\",\n",
    "]"
   ]
  },
  {
   "cell_type": "markdown",
   "metadata": {},
   "source": [
    "# Evaluation\n",
    "\n",
    "Here we are going to evaluate the models"
   ]
  },
  {
   "cell_type": "code",
   "execution_count": null,
   "metadata": {
    "collapsed": true
   },
   "outputs": [],
   "source": []
  },
  {
   "cell_type": "markdown",
   "metadata": {},
   "source": [
    "## Evaluation functions & Metrics\n",
    "\n",
    "List the evaluation functions & the metrics.\n"
   ]
  },
  {
   "cell_type": "code",
   "execution_count": null,
   "metadata": {
    "collapsed": false
   },
   "outputs": [],
   "source": []
  },
  {
   "cell_type": "markdown",
   "metadata": {},
   "source": [
    "###  Metrics"
   ]
  },
  {
   "cell_type": "code",
   "execution_count": 11,
   "metadata": {
    "collapsed": true
   },
   "outputs": [],
   "source": [
    "from sklearn.preprocessing import LabelBinarizer, LabelEncoder\n",
    "from sklearn.metrics import accuracy_score, confusion_matrix, log_loss"
   ]
  },
  {
   "cell_type": "raw",
   "metadata": {
    "collapsed": false
   },
   "source": [
    "def log_loss(y_true, y_pred):\n",
    "    N = y_true.shape[0]\n",
    "    lb = LabelBinarizer()\n",
    "    y_true = lb.fit_transform(y_true)\n",
    "    y_pred = lb.transform(y_pred)\n",
    "    y_pred = np.maximum(np.minimum(y_pred,np.ones(y_pred.shape)-1e-15),\n",
    "                        np.zeros(y_pred.shape)+1e-15)\n",
    "    loss = -1/N * np.sum(y_true*np.log(y_pred))\n",
    "    return loss"
   ]
  },
  {
   "cell_type": "markdown",
   "metadata": {},
   "source": [
    "### Graphics\n",
    "\n",
    "TODO : \n",
    "\n",
    "http://scikit-learn.org/stable/auto_examples/model_selection/plot_learning_curve.html\n",
    "\n",
    "http://scikit-learn.org/stable/modules/generated/sklearn.learning_curve.learning_curve.html\n"
   ]
  },
  {
   "cell_type": "code",
   "execution_count": 12,
   "metadata": {
    "collapsed": false
   },
   "outputs": [],
   "source": [
    "def model_rank(names, results, key):\n",
    "    loss = np.array([res[key] for res in results])\n",
    "    std_loss = np.array([res['std_'+key] for res in results])\n",
    "    order = np.argsort(loss)\n",
    "    x = range(len(models))\n",
    "    fig, ax = plt.subplots()\n",
    "    sort_idx = np.argsort(loss)\n",
    "    loss = loss[sort_idx]\n",
    "    std_loss = std_loss[sort_idx]\n",
    "    ax.plot(x, loss, 'o--')\n",
    "    ax.fill_between(x, loss - std_loss,\n",
    "                     loss + std_loss, alpha=0.1,\n",
    "                     color=\"r\")\n",
    "    names = [names[i] for i in order]\n",
    "    plt.xticks(x, names, rotation='vertical')\n",
    "    ax.set_title(\"Model ranking\")\n",
    "    ax.set_xlabel(\"Model\")\n",
    "    ax.set_ylabel(key)\n",
    "    return fig, ax\n",
    "    "
   ]
  },
  {
   "cell_type": "code",
   "execution_count": null,
   "metadata": {
    "collapsed": true
   },
   "outputs": [],
   "source": []
  },
  {
   "cell_type": "markdown",
   "metadata": {},
   "source": [
    "## Results\n",
    "\n",
    "Here are gathered graphics, tables, etc.\n"
   ]
  },
  {
   "cell_type": "code",
   "execution_count": 13,
   "metadata": {
    "collapsed": false
   },
   "outputs": [],
   "source": [
    "# Define the model list:\n",
    "models = ours + trees + bayes \n",
    "model_names = ours_names + trees_names + bayes_names "
   ]
  },
  {
   "cell_type": "code",
   "execution_count": 14,
   "metadata": {
    "collapsed": false
   },
   "outputs": [
    {
     "name": "stdout",
     "output_type": "stream",
     "text": [
      "Runing GBayes\n",
      "(6192, 9)\n",
      "(6191, 9)\n",
      "(6190, 9)\n",
      "(6190, 9)\n",
      "(6188, 9)\n",
      "(6186, 9)\n",
      "(6186, 9)\n",
      "(6186, 9)\n",
      "(6186, 9)\n",
      "(6183, 9)\n",
      "Runing 10-means-MPerceptron-0.25-50\n",
      "Runing 20-means-MPerceptron-0.25-50\n",
      "Runing MPerceptron-0.25-30\n",
      "Runing MPerceptron-0.25-50\n",
      "Runing MPerceptron-0.15-30\n",
      "Runing MPerceptron-0.3-100\n",
      "Runing Tree-10\n",
      "Runing Tree-100\n",
      "Runing Tree-1000\n",
      "Runing GausianNB\n",
      "Runing BernoulliNB\n"
     ]
    }
   ],
   "source": [
    "# For each model :\n",
    "results = []\n",
    "plots = []\n",
    "for model, name in zip(models, model_names):\n",
    "    if verbose : \n",
    "        print(\"Runing {0}\".format(name))\n",
    "    # Initialise the dict\n",
    "    metrics = dict()\n",
    "    metrics['log_loss'] = []\n",
    "    metrics['accuracy'] = []\n",
    "    metrics['error'] = []\n",
    "    metrics['confusion'] = []\n",
    "    for train_index, test_index in kfold:\n",
    "        X_train, X_test = X[train_index], X[test_index]\n",
    "        y_train, y_test = y[train_index], y[test_index]\n",
    "        \n",
    "        # train the model :\n",
    "        model.fit(X_train, y_train)\n",
    "        pred_test = model.predict(X_test)\n",
    "        pred_train = model.predict(X_train)\n",
    "        pred_proba = None\n",
    "        if hasattr(model, 'predict_proba'):\n",
    "            pred_proba = model.predict_proba(X_test)\n",
    "        # Evaluate :\n",
    "        if pred_proba is None:\n",
    "            metrics['log_loss'].append(log_loss(y_test, pred_test))\n",
    "        else:\n",
    "            metrics['log_loss'].append(log_loss(y_test, pred_proba))\n",
    "        acc = accuracy_score(y_test, pred_test)\n",
    "        metrics['accuracy'].append(acc)\n",
    "        metrics['error'].append(1-acc)\n",
    "        metrics['confusion'].append(confusion_matrix(y_test, pred_test))\n",
    "    # Compute variance metrics :\n",
    "    metrics['std_log_loss'] = np.std(metrics['log_loss'])\n",
    "    metrics['std_accuracy'] = np.std(metrics['accuracy'])\n",
    "    metrics['std_error'] = np.std(metrics['error'])\n",
    "    metrics['std_confusion'] = np.std(np.array(metrics['confusion']), axis=0)\n",
    "    # Mean all metrics :\n",
    "    metrics['log_loss'] = np.mean(metrics['log_loss'])\n",
    "    metrics['accuracy'] = np.mean(metrics['accuracy'])\n",
    "    metrics['error'] = np.mean(metrics['error'])\n",
    "    metrics['confusion'] = np.mean(np.array(metrics['confusion']), axis=0)\n",
    "    \n",
    "    results.append(metrics)"
   ]
  },
  {
   "cell_type": "raw",
   "metadata": {},
   "source": [
    "sep = \"=======================================================\"\n",
    "for res, model in zip(results,models):\n",
    "    print(sep)\n",
    "    print(model.__class__.__name__,':')\n",
    "    for name, value in res.items():\n",
    "        if name=='confusion':\n",
    "            np.set_printoptions(precision=1, suppress=True)\n",
    "            print('\\t',name,':\\n', value)\n",
    "        else:\n",
    "            print('\\t',name,':', value)"
   ]
  },
  {
   "cell_type": "code",
   "execution_count": 15,
   "metadata": {
    "collapsed": false,
    "scrolled": true
   },
   "outputs": [
    {
     "data": {
      "image/png": "[encoded data removed]",
      "text/plain": [
       "<matplotlib.figure.Figure at 0x7f5d641eb790>"
      ]
     },
     "metadata": {},
     "output_type": "display_data"
    }
   ],
   "source": [
    "fig, ax = model_rank(model_names, results, \"log_loss\")\n",
    "plt.show()"
   ]
  },
  {
   "cell_type": "code",
   "execution_count": 16,
   "metadata": {
    "collapsed": false
   },
   "outputs": [
    {
     "data": {
      "image/png": "[encoded data removed]",
      "text/plain": [
       "<matplotlib.figure.Figure at 0x7f5d62293110>"
      ]
     },
     "metadata": {},
     "output_type": "display_data"
    }
   ],
   "source": [
    "fig, ax = model_rank(model_names, results, \"error\")\n",
    "plt.show()"
   ]
  },
  {
   "cell_type": "code",
   "execution_count": null,
   "metadata": {
    "collapsed": true
   },
   "outputs": [],
   "source": []
  }
 ],
 "metadata": {
  "kernelspec": {
   "display_name": "Python 2",
   "language": "python",
   "name": "python2"
  },
  "language_info": {
   "codemirror_mode": {
    "name": "ipython",
    "version": 2
   },
   "file_extension": ".py",
   "mimetype": "text/x-python",
   "name": "python",
   "nbconvert_exporter": "python",
   "pygments_lexer": "ipython2",
   "version": "2.7.10"
  }
 },
 "nbformat": 4,
 "nbformat_minor": 0
}
