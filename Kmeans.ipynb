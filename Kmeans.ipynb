{
 "cells": [
  {
   "cell_type": "code",
   "execution_count": 63,
   "metadata": {
    "collapsed": false
   },
   "outputs": [],
   "source": [
    "import numpy as np\n",
    "\n",
    "class Kmeans:\n",
    "    def __init__(self,k,data):\n",
    "        \n",
    "        self.data = data\n",
    "        self.dataNums = np.shape(data)[0]\n",
    "        self.dataDim = np.shape(data)[1]\n",
    "        self.k = k\n",
    "        \n",
    "    def train(self,maxIter=100):\n",
    "        \n",
    "        # on récupère le min et le max de nos données\n",
    "        min_f = np.min(self.data,axis=0)\n",
    "        max_f = np.max(self.data,axis = 0)\n",
    "        \n",
    "    \n",
    "        # Initialisation des cenres \n",
    "        self.centres = np.random.rand(self.k,self.dataDim)*(max_f-min_f)+min_f\n",
    "        dernierCentres = np.zeros(self.centres.shape)\n",
    "        \n",
    "        iteration = 0\n",
    "        \n",
    "        while np.sum(dernierCentres-self.centres)!= 0 and iteration < maxIter:\n",
    "            \n",
    "            \n",
    "            dernierCentres = self.centres.copy()\n",
    "            iteration += 1\n",
    "            \n",
    "            distances = np.ones((1,self.dataNums))*np.sum((self.data-self.centres[0,:])**2,axis=1)\n",
    "       \n",
    "            for i in range(self.k-1):\n",
    "                distances = np.append(distances,np.ones((1,self.dataNums))*np.sum((self.data-self.centres[i+1,:])**2,axis=1),axis=0)\n",
    "                \n",
    "                \n",
    "            cluster = np.argmin(distances,axis=0)\n",
    "            cluster = np.transpose(cluster*np.ones((1,self.dataNums)))\n",
    "            \n",
    "            for i in range(self.k):\n",
    "                currentCluster = np.where(cluster==i)[0]\n",
    "                if currentCluster.shape[0]>0:\n",
    "                    self.centres[i,:] = np.sum(self.data[currentCluster],axis=0)/currentCluster.shape[0]\n",
    "                    \n",
    "                    \n",
    "    def predict(self,data):\n",
    "        \n",
    "        nData = np.shape(data)[0]\n",
    "\n",
    "        # On calcul la distance avec les centres\n",
    "        distances = np.ones((1,nData))*np.sum((data-self.centres[0,:])**2,axis=1)\n",
    "        for j in range(self.k-1):\n",
    "            distances = np.append(distances,np.ones((1,nData))*np.sum((data-self.centres[j+1,:])**2,axis=1),axis=0)\n",
    "\n",
    "\n",
    "        # On retourne le cluster  \n",
    "        cluster = distances.argmin(axis=0)\n",
    "        \n",
    "        return cluster\n",
    "            \n",
    "            \n",
    "        \n",
    "        \n",
    "    "
   ]
  },
  {
   "cell_type": "code",
   "execution_count": 64,
   "metadata": {
    "collapsed": false
   },
   "outputs": [
    {
     "name": "stdout",
     "output_type": "stream",
     "text": [
      "61820\n"
     ]
    }
   ],
   "source": [
    "import numpy as np\n",
    "import csv\n",
    "\n",
    "\n",
    "data = []\n",
    "for k in range(10):\n",
    "   \n",
    "    with open('Data/otto%i.csv'%k, 'rb') as trainFile:\n",
    "        reader = csv.reader(trainFile)\n",
    "        i = 0\n",
    "        reader.next()\n",
    "        for r in reader:\n",
    "            data.append((np.array((r[:len(r) - 1])).astype(float),np.array(r[len(r) - 1]).astype(float).astype(int)))\n",
    "            \n",
    "        \n",
    "\n",
    "        \n",
    "            \n",
    "print len(data)"
   ]
  },
  {
   "cell_type": "code",
   "execution_count": 65,
   "metadata": {
    "collapsed": false
   },
   "outputs": [],
   "source": [
    "datanum = len(data)\n",
    "trainData = data[:datanum - datanum/10]\n",
    "trainClasses = np.array([c for _,c in trainData]) \n",
    "trainFeatures = np.array([x for x,_ in trainData])\n",
    "\n",
    "nbClust = 20\n",
    "\n",
    "trainFeatures = np.log(1 + trainFeatures)\n",
    "model = Kmeans(nbClust,trainFeatures)\n",
    "\n",
    "model.train(100)"
   ]
  },
  {
   "cell_type": "code",
   "execution_count": null,
   "metadata": {
    "collapsed": false
   },
   "outputs": [],
   "source": [
    "\n"
   ]
  },
  {
   "cell_type": "code",
   "execution_count": 66,
   "metadata": {
    "collapsed": false
   },
   "outputs": [
    {
     "name": "stdout",
     "output_type": "stream",
     "text": [
      "set([0, 1, 5, 8, 7])\n",
      "set([0, 1, 2, 3, 4, 5, 6, 7, 8])\n",
      "le cluster 1 représente la classe 7\n",
      "le cluster 3 représente la classe 1\n",
      "le cluster 4 représente la classe 5\n",
      "le cluster 6 représente la classe 8\n",
      "le cluster 8 représente la classe 5\n",
      "le cluster 9 représente la classe 7\n",
      "le cluster 10 représente la classe 5\n",
      "le cluster 15 représente la classe 1\n",
      "le cluster 16 représente la classe 1\n",
      "le cluster 17 représente la classe 1\n",
      "55638.0\n",
      "55638\n"
     ]
    }
   ],
   "source": [
    "nums = np.zeros((nbClust,9))\n",
    "r = model.predict(trainFeatures)\n",
    "\n",
    "for i in range(len(trainFeatures)):\n",
    "    \n",
    "    nums[r[i],trainClasses[i]] += 1\n",
    "    \n",
    "temp = set([nums[i].argmax() for i in range(nbClust)])\n",
    "print temp\n",
    "print set(trainClasses)\n",
    "\n",
    "for i in range(nbClust):\n",
    "    if max(nums[i]) != 0:\n",
    "        print \"le cluster %i\"%i, \"représente la classe %i\" %(nums[i].argmax())\n",
    "    \n",
    "\n",
    "print np.sum(nums)\n",
    "print(len(trainFeatures))"
   ]
  },
  {
   "cell_type": "code",
   "execution_count": 67,
   "metadata": {
    "collapsed": false
   },
   "outputs": [],
   "source": [
    "from sklearn import datasets"
   ]
  },
  {
   "cell_type": "code",
   "execution_count": 68,
   "metadata": {
    "collapsed": false
   },
   "outputs": [],
   "source": [
    "digits = datasets.load_digits()\n",
    "\n",
    "data = np.array(digits[\"data\"])\n",
    "targets = np.array(digits[\"target\"])\n",
    "\n",
    "\n",
    "\n",
    "\n"
   ]
  },
  {
   "cell_type": "code",
   "execution_count": 69,
   "metadata": {
    "collapsed": false
   },
   "outputs": [],
   "source": [
    "model = Kmeans(10,data)\n",
    "\n",
    "model.train(1000)"
   ]
  },
  {
   "cell_type": "code",
   "execution_count": 70,
   "metadata": {
    "collapsed": false
   },
   "outputs": [
    {
     "name": "stdout",
     "output_type": "stream",
     "text": [
      "1797\n",
      "set([0, 1, 2, 3, 4, 5, 6, 7, 8])\n",
      "set([0, 1, 2, 3, 4, 5, 6, 7, 8, 9])\n",
      "le cluster 0 représente la classe 3\n",
      "le cluster 1 représente la classe 4\n",
      "le cluster 2 représente la classe 5\n",
      "le cluster 3 représente la classe 1\n",
      "le cluster 4 représente la classe 8\n",
      "le cluster 5 représente la classe 0\n",
      "le cluster 6 représente la classe 6\n",
      "le cluster 7 représente la classe 2\n",
      "le cluster 9 représente la classe 7\n"
     ]
    }
   ],
   "source": [
    "nums = np.zeros((50,10))\n",
    "r = model.predict(data)\n",
    "\n",
    "print len(data)\n",
    "for i in range(len(data)):\n",
    "    \n",
    "    nums[r[i],targets[i]] += 1\n",
    "    \n",
    "temp = set([nums[i].argmax() for i in range(50)])\n",
    "print temp\n",
    "print set(targets)\n",
    "\n",
    "for i in range(50):\n",
    "    if max(nums[i]) != 0:\n",
    "        print \"le cluster %i\"%i, \"représente la classe %i\" %(nums[i].argmax())\n",
    "    "
   ]
  },
  {
   "cell_type": "code",
   "execution_count": 77,
   "metadata": {
    "collapsed": false
   },
   "outputs": [
    {
     "name": "stdout",
     "output_type": "stream",
     "text": [
      "55638\n",
      "le cluster 0 représente la classe 8\n",
      "le cluster 1 représente la classe 1\n",
      "le cluster 2 représente la classe 1\n",
      "le cluster 3 représente la classe 1\n",
      "le cluster 4 représente la classe 5\n",
      "le cluster 5 représente la classe 5\n",
      "le cluster 6 représente la classe 1\n",
      "le cluster 7 représente la classe 7\n",
      "le cluster 8 représente la classe 8\n"
     ]
    }
   ],
   "source": [
    "from sklearn.cluster import KMeans\n",
    "\n",
    "y_pred = KMeans(n_clusters=9).fit_predict(trainFeatures)\n",
    "\n",
    "nums = np.zeros((50,10))\n",
    "r = y_pred\n",
    "\n",
    "print len(y_pred)\n",
    "for i in range(len(y_pred)):\n",
    "    \n",
    "    nums[r[i],trainClasses[i]] += 1\n",
    "\n",
    "for i in range(10):\n",
    "    if max(nums[i]) != 0:\n",
    "        print \"le cluster %i\"%i, \"représente la classe %i\" %(nums[i].argmax())\n",
    "    "
   ]
  },
  {
   "cell_type": "code",
   "execution_count": null,
   "metadata": {
    "collapsed": true
   },
   "outputs": [],
   "source": []
  },
  {
   "cell_type": "code",
   "execution_count": null,
   "metadata": {
    "collapsed": true
   },
   "outputs": [],
   "source": []
  },
  {
   "cell_type": "code",
   "execution_count": null,
   "metadata": {
    "collapsed": true
   },
   "outputs": [],
   "source": []
  }
 ],
 "metadata": {
  "kernelspec": {
   "display_name": "Python 2",
   "language": "python",
   "name": "python2"
  },
  "language_info": {
   "codemirror_mode": {
    "name": "ipython",
    "version": 2
   },
   "file_extension": ".py",
   "mimetype": "text/x-python",
   "name": "python",
   "nbconvert_exporter": "python",
   "pygments_lexer": "ipython2",
   "version": "2.7.10"
  }
 },
 "nbformat": 4,
 "nbformat_minor": 0
}
