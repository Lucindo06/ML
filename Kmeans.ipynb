{
 "cells": [
  {
   "cell_type": "code",
   "execution_count": 185,
   "metadata": {
    "collapsed": false
   },
   "outputs": [
    {
     "name": "stdout",
     "output_type": "stream",
     "text": [
      "61820\n"
     ]
    }
   ],
   "source": [
    "import numpy as np\n",
    "import csv\n",
    "\n",
    "data = []\n",
    "for k in range(10):\n",
    "    with open('Data/otto%i.csv'%k, 'rb') as trainFile:\n",
    "        reader = csv.reader(trainFile)\n",
    "        i = 0\n",
    "        reader.next()\n",
    "        for r in reader:\n",
    "            data.append((np.array((r[:len(r) - 1])).astype(float),np.array(r[len(r) - 1]).astype(float).astype(int)))\n",
    "            \n",
    "print len(data)"
   ]
  },
  {
   "cell_type": "code",
   "execution_count": 191,
   "metadata": {
    "collapsed": false
   },
   "outputs": [],
   "source": [
    "import numpy as np\n",
    "\n",
    "class Kmeans:\n",
    "    def __init__(self, k, max_iter=1000):\n",
    "        self.k = k\n",
    "        self.max_iter = max_iter\n",
    "        \n",
    "        \n",
    "    def fit(self, X, y=None):\n",
    "        n_instances = X.shape[0]\n",
    "        n_features = X.shape[1]\n",
    "        k = self.k\n",
    "        max_iter = self.max_iter\n",
    "        \n",
    "        # on récupère le min et le max de nos données\n",
    "        min_f = np.min(X,axis=0)\n",
    "        max_f = np.max(X,axis=0)\n",
    "        \n",
    "        # Initialisation des cenres \n",
    "        centres = np.random.random(size=(k,n_features))*(max_f-min_f)+min_f\n",
    "        dernierCentres = np.zeros(centres.shape)\n",
    "        \n",
    "        iteration = 0\n",
    "        while np.linalg.norm(dernierCentres-centres)<1e-5 and iteration < max_iter:\n",
    "            iteration += 1\n",
    "            dernierCentres = centres.copy()\n",
    "            # Compute the distances\n",
    "            dist = np.empty((n_instances, k))\n",
    "            for i in range(k):\n",
    "                dist[:,i] = np.linalg.norm(X[:]-centres[i], axis=1)\n",
    "            \n",
    "            # Get the new cluster centers\n",
    "            cluster = np.argmin(dist,axis=1)\n",
    "            #cluster = np.transpose(cluster*np.ones((1,self.dataNums)))\n",
    "            for i in range(k):\n",
    "                currentCluster = np.where(cluster==i)[0]\n",
    "                if currentCluster.shape[0]>0:\n",
    "                    centres[i] = np.sum(X[currentCluster],axis=0)/currentCluster.shape[0]\n",
    "                    \n",
    "        self.centres = centres\n",
    "                    \n",
    "    def predict(self,X):\n",
    "        n_instances = X.shape[0]\n",
    "        k = self.k\n",
    "        centres = self.centres\n",
    "        # On calcul la distance avec les centres\n",
    "        dist = np.empty((n_instances, k))\n",
    "        for i in range(k):\n",
    "            dist[:,i] = np.linalg.norm(X[:]-centres[i], axis=1)\n",
    "        \n",
    "        # On retourne le cluster  \n",
    "        cluster = dist.argmin(axis=1)\n",
    "        \n",
    "        return cluster\n",
    "            \n"
   ]
  },
  {
   "cell_type": "code",
   "execution_count": 201,
   "metadata": {
    "collapsed": false
   },
   "outputs": [
    {
     "name": "stdout",
     "output_type": "stream",
     "text": [
      "end\n"
     ]
    }
   ],
   "source": [
    "datanum = len(data)\n",
    "trainData = data[:datanum - datanum/10]\n",
    "trainClasses = np.array([c for _,c in trainData]) \n",
    "trainFeatures = np.array([x for x,_ in trainData])\n",
    "model = Kmeans(9)\n",
    "\n",
    "model.fit(trainFeatures)\n",
    "print \"end\""
   ]
  },
  {
   "cell_type": "raw",
   "metadata": {
    "collapsed": false
   },
   "source": [
    "print model.predict([trainFeatures[10000],trainFeatures[0]])\n",
    "print trainClasses[10000]"
   ]
  },
  {
   "cell_type": "code",
   "execution_count": 202,
   "metadata": {
    "collapsed": true
   },
   "outputs": [],
   "source": [
    "from sklearn.metrics import precision_score"
   ]
  },
  {
   "cell_type": "code",
   "execution_count": 203,
   "metadata": {
    "collapsed": false
   },
   "outputs": [
    {
     "name": "stdout",
     "output_type": "stream",
     "text": [
      "<type 'list'> <type 'list'>\n",
      "(6182, 93) (6182,)\n",
      "(6182,)\n",
      "0.991890282171\n"
     ]
    },
    {
     "name": "stderr",
     "output_type": "stream",
     "text": [
      "/home/victor/anaconda/lib/python2.7/site-packages/sklearn/metrics/classification.py:1082: DeprecationWarning: The default `weighted` averaging is deprecated, and from version 0.18, use of precision, recall or F-score with multiclass or multilabel data or pos_label=None will result in an exception. Please set an explicit value for `average`, one of (None, 'micro', 'macro', 'weighted', 'samples'). In cross validation use, for instance, scoring=\"f1_weighted\" instead of scoring=\"f1\".\n",
      "  sample_weight=sample_weight)\n"
     ]
    }
   ],
   "source": [
    "testData = data[datanum - datanum/10:datanum]\n",
    "print type(data), type(testData)\n",
    "testFeatures = np.array([x for x,_ in testData])#.reshape((-1, 93))\n",
    "testClasses = np.array([c for _,c in testData]) \n",
    "\n",
    "testclassesNum = len(set(trainClasses))\n",
    "testfeaturesNum = testFeatures.shape[0]\n",
    "\n",
    "print testFeatures.shape, testClasses.shape\n",
    "pred = model.predict(testFeatures)\n",
    "print pred.shape\n",
    "print precision_score(pred , testClasses)"
   ]
  },
  {
   "cell_type": "code",
   "execution_count": null,
   "metadata": {
    "collapsed": false
   },
   "outputs": [],
   "source": []
  },
  {
   "cell_type": "code",
   "execution_count": null,
   "metadata": {
    "collapsed": false,
    "scrolled": true
   },
   "outputs": [],
   "source": []
  },
  {
   "cell_type": "code",
   "execution_count": null,
   "metadata": {
    "collapsed": false
   },
   "outputs": [],
   "source": [
    "\n"
   ]
  },
  {
   "cell_type": "code",
   "execution_count": null,
   "metadata": {
    "collapsed": false
   },
   "outputs": [],
   "source": []
  },
  {
   "cell_type": "code",
   "execution_count": null,
   "metadata": {
    "collapsed": true
   },
   "outputs": [],
   "source": []
  }
 ],
 "metadata": {
  "kernelspec": {
   "display_name": "Python 2",
   "language": "python",
   "name": "python2"
  },
  "language_info": {
   "codemirror_mode": {
    "name": "ipython",
    "version": 2
   },
   "file_extension": ".py",
   "mimetype": "text/x-python",
   "name": "python",
   "nbconvert_exporter": "python",
   "pygments_lexer": "ipython2",
   "version": "2.7.10"
  }
 },
 "nbformat": 4,
 "nbformat_minor": 0
}
