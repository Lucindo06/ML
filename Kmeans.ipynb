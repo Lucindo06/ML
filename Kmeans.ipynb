{
 "cells": [
  {
   "cell_type": "code",
   "execution_count": 23,
   "metadata": {
    "collapsed": true
   },
   "outputs": [],
   "source": [
    "import numpy as np\n",
    "\n",
    "class Kmeans:\n",
    "    def __init__(self,k,data):\n",
    "        \n",
    "        self.data = data\n",
    "        self.dataNums = np.shape(data)[0]\n",
    "        self.dataDim = np.shape(data)[1]\n",
    "        self.k = k\n",
    "        \n",
    "    def train(self,maxIter=10):\n",
    "        \n",
    "        # on récupère le min et le max de nos données\n",
    "        min_f = np.min(self.data,axis=0)\n",
    "        max_f = np.max(self.data,axis = 0)\n",
    "        \n",
    "    \n",
    "        # Initialisation des cenres \n",
    "        self.centres = np.random.rand(self.k,self.dataDim)*(max_f-min_f)+min_f\n",
    "        dernierCentres = np.zeros(self.centres.shape)\n",
    "        \n",
    "        iteration = 0\n",
    "        \n",
    "        while np.sum(np.sum(dernierCentres-self.centres))!= 0 :\n",
    "            \n",
    "            \n",
    "            dernierCentres = self.centres.copy()\n",
    "            iteration += 1\n",
    "            \n",
    "            distances = np.ones((1,self.dataNums))*np.sum((self.data-self.centres[0,:])**2,axis=1)\n",
    "       \n",
    "            for i in range(self.k-1):\n",
    "                distances = np.append(distances,np.ones((1,self.dataNums))*np.sum((self.data-self.centres[i+1,:])**2,axis=1),axis=0)\n",
    "                \n",
    "                \n",
    "            cluster = np.argmin(distances,axis=0)\n",
    "            cluster = np.transpose(cluster*np.ones((1,self.dataNums)))\n",
    "            \n",
    "            for i in range(self.k):\n",
    "                currentCluster = np.where(cluster==i,1,0)\n",
    "                if sum(currentCluster)>0:\n",
    "                    self.centres[i,:] = np.sum(self.data*currentCluster,axis=0)/np.sum(currentCluster)\n",
    "                    \n",
    "                    \n",
    "    def predict(self,data):\n",
    "        \n",
    "        nData = np.shape(data)[0]\n",
    "\n",
    "        # On calcul la distance avec les centres\n",
    "        distances = np.ones((1,nData))*np.sum((data-self.centres[0,:])**2,axis=1)\n",
    "        for j in range(self.k-1):\n",
    "            distances = np.append(distances,np.ones((1,nData))*np.sum((data-self.centres[j+1,:])**2,axis=1),axis=0)\n",
    "\n",
    "\n",
    "        # On retourne le cluster  \n",
    "        cluster = distances.argmin(axis=0)\n",
    "        \n",
    "        return cluster\n",
    "            \n",
    "            \n",
    "        \n",
    "        \n",
    "    "
   ]
  },
  {
   "cell_type": "code",
   "execution_count": 20,
   "metadata": {
    "collapsed": false
   },
   "outputs": [
    {
     "name": "stdout",
     "output_type": "stream",
     "text": [
      "61820\n"
     ]
    }
   ],
   "source": [
    "import numpy as np\n",
    "import csv\n",
    "\n",
    "\n",
    "data = []\n",
    "for k in range(10):\n",
    "   \n",
    "    with open('otto%i.csv'%k, 'rb') as trainFile:\n",
    "        reader = csv.reader(trainFile)\n",
    "        i = 0\n",
    "        reader.next()\n",
    "        for r in reader:\n",
    "            data.append((np.array((r[:len(r) - 1])).astype(float),np.array(r[len(r) - 1]).astype(float).astype(int)))\n",
    "            \n",
    "        \n",
    "\n",
    "        \n",
    "            \n",
    "print len(data)"
   ]
  },
  {
   "cell_type": "code",
   "execution_count": 24,
   "metadata": {
    "collapsed": false
   },
   "outputs": [],
   "source": [
    "datanum = len(data)\n",
    "trainData = data[:datanum - datanum/10]\n",
    "trainClasses = np.array([c for _,c in trainData]) \n",
    "trainFeatures = np.array([x for x,_ in trainData])\n",
    "\n",
    "model = Kmeans(9,trainFeatures)\n",
    "\n",
    "model.train()"
   ]
  },
  {
   "cell_type": "code",
   "execution_count": 25,
   "metadata": {
    "collapsed": false
   },
   "outputs": [
    {
     "name": "stdout",
     "output_type": "stream",
     "text": [
      "*\n",
      "*\n",
      "*\n",
      "*\n",
      "*\n",
      "*\n",
      "*\n",
      "*\n",
      "[7 7]\n",
      "5\n"
     ]
    }
   ],
   "source": [
    "print model.predict([trainFeatures[20000],trainFeatures[1]])\n",
    "print trainClasses[10000]"
   ]
  },
  {
   "cell_type": "code",
   "execution_count": null,
   "metadata": {
    "collapsed": false
   },
   "outputs": [],
   "source": [
    "\n",
    "\n"
   ]
  },
  {
   "cell_type": "code",
   "execution_count": null,
   "metadata": {
    "collapsed": false
   },
   "outputs": [],
   "source": []
  },
  {
   "cell_type": "code",
   "execution_count": null,
   "metadata": {
    "collapsed": false
   },
   "outputs": [],
   "source": []
  },
  {
   "cell_type": "code",
   "execution_count": null,
   "metadata": {
    "collapsed": false
   },
   "outputs": [],
   "source": [
    "\n"
   ]
  },
  {
   "cell_type": "code",
   "execution_count": null,
   "metadata": {
    "collapsed": false
   },
   "outputs": [],
   "source": []
  },
  {
   "cell_type": "code",
   "execution_count": null,
   "metadata": {
    "collapsed": true
   },
   "outputs": [],
   "source": []
  }
 ],
 "metadata": {
  "kernelspec": {
   "display_name": "Python 2",
   "language": "python",
   "name": "python2"
  },
  "language_info": {
   "codemirror_mode": {
    "name": "ipython",
    "version": 2
   },
   "file_extension": ".py",
   "mimetype": "text/x-python",
   "name": "python",
   "nbconvert_exporter": "python",
   "pygments_lexer": "ipython2",
   "version": "2.7.10"
  }
 },
 "nbformat": 4,
 "nbformat_minor": 0
}
