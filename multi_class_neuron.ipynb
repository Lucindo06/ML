{
 "cells": [
  {
   "cell_type": "markdown",
   "metadata": {},
   "source": [
    "# Le perceptron Multi-Classes"
   ]
  },
  {
   "cell_type": "code",
   "execution_count": 1,
   "metadata": {
    "collapsed": false
   },
   "outputs": [],
   "source": [
    "import numpy as np\n",
    "\n",
    "class mPerceptron:\n",
    "    def __init__(self,inputs,targets):\n",
    "        \n",
    "        self.inputs = inputs\n",
    "        self.targets = targets\n",
    "        \n",
    "        #Nombre de perceptrons\n",
    "        if np.ndim(inputs) > 1:\n",
    "            self.inNums = np.shape(inputs)[1]\n",
    "        else:\n",
    "            self.inNums = 1\n",
    "            \n",
    "        if np.ndim(targets) > 1:\n",
    "            self.outNums = np.shape(targets)[1]\n",
    "        else:\n",
    "            self.outNums = 1\n",
    "            \n",
    "        self.dataNums = np.shape(inputs)[0]\n",
    "        \n",
    "        #Initialisation des poids\n",
    "        self.weights = np.random.rand(self.inNums +1,self.outNums)*0.1-0.05\n",
    "        \n",
    "        #Normalisation (Ajout du biais)\n",
    "        self.inputs = np.concatenate((inputs,-np.ones((self.dataNums,1))),axis=1)\n",
    "        \n",
    "    def activationFun(self):\n",
    "        self.activations = np.dot(self.inputs,self.weights)\n",
    "        return np.where(self.activations>0,1,0)\n",
    "    \n",
    "    def train(self,lRate,iterationsNums):\n",
    "        \n",
    "        for i in range(iterationsNums + 1):\n",
    "            activations = self.activationFun()\n",
    "            self.weights -= lRate*np.dot(np.transpose(self.inputs),activations-self.targets)\n",
    "    \n",
    "\n",
    "        \n",
    "    def test(self,inputs,targets):\n",
    "        #Normalisation pour inclure le calcul du biais\n",
    "        inputs = np.concatenate((inputs,np.ones((np.shape(inputs)[0],1))),axis=1)\n",
    "        \n",
    "        outputs = np.dot(inputs,self.weights)\n",
    "        classesNums = np.shape(targets)[1]\n",
    "        \n",
    "        if(classesNums == 1):\n",
    "            classesNums = 2\n",
    "            outputs = np.where(outputs >0,1,0)\n",
    "        else:\n",
    "            outputs = np.argmax(outputs,1)\n",
    "            targets = np.argmax(targets,1)\n",
    "            \n",
    "        cMatrix = np.zeros((classesNums,classesNums))\n",
    "        \n",
    "        for i in range(classesNums):\n",
    "            for j in range(classesNums):\n",
    "                cMatrix[i,j] = np.sum(np.where(outputs == i,1,0)*np.where(targets == j,1,0))\n",
    "                \n",
    "        \n",
    "        precision = np.trace(cMatrix)/np.sum(cMatrix)\n",
    "        \n",
    "        return (cMatrix,precision)\n",
    "    \n",
    "    \n",
    "    def predict(self,inputs):\n",
    "        \n",
    "        inputs = np.concatenate((inputs,np.ones((np.shape(inputs)[0],1))),axis=1)\n",
    "        \n",
    "        outputs = np.dot(inputs,self.weights)\n",
    "        classesNums = np.shape(self.targets)[1]\n",
    "        \n",
    "        if(classesNums == 1):\n",
    "            classesNums = 2\n",
    "            outputs = np.where(outputs >0,1,0)\n",
    "        else:\n",
    "            outputs = np.argmax(outputs,1)\n",
    "            \n",
    "        return outputs\n",
    "              \n",
    "    \n",
    "        \n",
    "        \n",
    "        "
   ]
  },
  {
   "cell_type": "markdown",
   "metadata": {
    "collapsed": false
   },
   "source": [
    "# Récupération des données"
   ]
  },
  {
   "cell_type": "code",
   "execution_count": 2,
   "metadata": {
    "collapsed": false
   },
   "outputs": [
    {
     "name": "stdout",
     "output_type": "stream",
     "text": [
      "61820\n"
     ]
    }
   ],
   "source": [
    "import numpy as np\n",
    "import csv\n",
    "\n",
    "\n",
    "data = []\n",
    "for k in range(10):\n",
    "   \n",
    "    with open('otto%i.csv'%k, 'rb') as trainFile:\n",
    "        reader = csv.reader(trainFile)\n",
    "        i = 0\n",
    "        reader.next()\n",
    "        for r in reader:\n",
    "            data.append((np.array((r[:len(r) - 1])).astype(float),np.array(r[len(r) - 1]).astype(float).astype(int)))\n",
    "\n",
    "        \n",
    "            \n",
    "print len(data)\n",
    "\n",
    "\n"
   ]
  },
  {
   "cell_type": "markdown",
   "metadata": {},
   "source": [
    "# Entrainement du classifieur"
   ]
  },
  {
   "cell_type": "code",
   "execution_count": 3,
   "metadata": {
    "collapsed": false
   },
   "outputs": [],
   "source": [
    "datanum = len(data)\n",
    "trainData = data[:datanum - datanum/10]\n",
    "        \n",
    "trainFeatures = np.array([x for x,_ in trainData])\n",
    "trainClasses = np.array([c for _,c in trainData]) \n",
    "\n",
    "classesNum = len(set(trainClasses))\n",
    "featuresNum = trainFeatures.shape[0]\n",
    "\n",
    "trainTargets = np.zeros((featuresNum,classesNum))\n",
    "\n",
    "for i in range(featuresNum):\n",
    "    trainTargets[i,trainClasses[i]] = 1\n",
    "\n",
    "p = mPerceptron(trainFeatures,trainTargets)\n",
    "p.train(0.2,100)\n"
   ]
  },
  {
   "cell_type": "markdown",
   "metadata": {},
   "source": [
    "# Premier test"
   ]
  },
  {
   "cell_type": "code",
   "execution_count": 4,
   "metadata": {
    "collapsed": false
   },
   "outputs": [
    {
     "data": {
      "text/plain": [
       "(array([[  4.00000000e+00,   0.00000000e+00,   0.00000000e+00,\n",
       "           0.00000000e+00,   0.00000000e+00,   0.00000000e+00,\n",
       "           0.00000000e+00,   0.00000000e+00,   0.00000000e+00],\n",
       "        [  4.80000000e+01,   1.59700000e+03,   7.69000000e+02,\n",
       "           2.36000000e+02,   5.20000000e+01,   6.00000000e+01,\n",
       "           1.02000000e+02,   3.60000000e+01,   4.50000000e+01],\n",
       "        [  0.00000000e+00,   0.00000000e+00,   0.00000000e+00,\n",
       "           0.00000000e+00,   0.00000000e+00,   0.00000000e+00,\n",
       "           0.00000000e+00,   0.00000000e+00,   0.00000000e+00],\n",
       "        [  0.00000000e+00,   3.00000000e+00,   1.40000000e+01,\n",
       "           1.70000000e+01,   0.00000000e+00,   4.00000000e+00,\n",
       "           7.00000000e+00,   0.00000000e+00,   1.00000000e+00],\n",
       "        [  2.00000000e+00,   0.00000000e+00,   0.00000000e+00,\n",
       "           0.00000000e+00,   2.19000000e+02,   0.00000000e+00,\n",
       "           1.00000000e+00,   1.00000000e+00,   0.00000000e+00],\n",
       "        [  9.00000000e+00,   0.00000000e+00,   0.00000000e+00,\n",
       "           1.20000000e+01,   1.00000000e+00,   1.22700000e+03,\n",
       "           1.00000000e+01,   6.00000000e+00,   6.00000000e+00],\n",
       "        [  9.00000000e+00,   7.00000000e+00,   1.40000000e+01,\n",
       "           2.00000000e+00,   0.00000000e+00,   1.90000000e+01,\n",
       "           1.26000000e+02,   9.00000000e+00,   4.00000000e+00],\n",
       "        [  5.00000000e+01,   4.00000000e+00,   2.00000000e+00,\n",
       "           0.00000000e+00,   1.00000000e+00,   5.20000000e+01,\n",
       "           2.60000000e+01,   7.64000000e+02,   2.00000000e+01],\n",
       "        [  6.90000000e+01,   1.00000000e+00,   1.00000000e+00,\n",
       "           2.00000000e+00,   0.00000000e+00,   5.10000000e+01,\n",
       "           1.10000000e+01,   3.00000000e+01,   4.19000000e+02]]),\n",
       " 0.70737625363959888)"
      ]
     },
     "execution_count": 4,
     "metadata": {},
     "output_type": "execute_result"
    }
   ],
   "source": [
    "testData = data[datanum - datanum/10:datanum]\n",
    "\n",
    "    \n",
    "testFeatures = np.array([x for x,_ in testData])\n",
    "testClasses = np.array([c for _,c in testData]) \n",
    "\n",
    "testclassesNum = len(set(trainClasses))\n",
    "testfeaturesNum = testFeatures.shape[0]\n",
    "\n",
    "testTargets = np.zeros((testfeaturesNum,testclassesNum))\n",
    "\n",
    "for i in range(testfeaturesNum):\n",
    "    testTargets[i,testClasses[i]] = 1\n",
    "    \n",
    "p.test(testFeatures,testTargets)\n"
   ]
  },
  {
   "cell_type": "code",
   "execution_count": 10,
   "metadata": {
    "collapsed": false
   },
   "outputs": [
    {
     "name": "stdout",
     "output_type": "stream",
     "text": [
      "[0 0 0 8 8 1 0 0 7 7]\n",
      "[0 0 0 0 0 0 0 0 0 0]\n"
     ]
    }
   ],
   "source": [
    "from sklearn import svm\n",
    "\n",
    "clf = svm.SVC()\n",
    "clf.fit(trainFeatures[:10000],trainClasses[:10000])\n",
    "x = clf.predict(testFeatures[:10])\n",
    "\n",
    "print x\n",
    "print testClasses[:10]\n"
   ]
  },
  {
   "cell_type": "markdown",
   "metadata": {},
   "source": [
    "# Developpement"
   ]
  },
  {
   "cell_type": "code",
   "execution_count": null,
   "metadata": {
    "collapsed": false
   },
   "outputs": [],
   "source": [
    "divInd =  datanum/10\n",
    "devData = data[datanum - 2*divInd:datanum - divInd]\n",
    "data = np.concatenate((data[:datanum - 2*datanum/10],data[datanum - datanum/10:datanum]),axis=0)\n",
    "\n",
    "\n",
    "\n",
    "\n"
   ]
  },
  {
   "cell_type": "code",
   "execution_count": null,
   "metadata": {
    "collapsed": false
   },
   "outputs": [],
   "source": [
    "trainData = data[:len(data) - len(data)/10]\n",
    "\n",
    "trainFeatures = np.array([x for x,_ in trainData])\n",
    "trainClasses = np.array([c for _,c in trainData]) \n",
    "\n",
    "classesNum = len(set(trainClasses))\n",
    "featuresNum = trainFeatures.shape[0]\n",
    "\n",
    "trainTargets = np.zeros((featuresNum,classesNum))\n",
    "\n",
    "for i in range(featuresNum):\n",
    "    trainTargets[i,trainClasses[i]] = 1\n",
    "    \n",
    "    \n",
    "testData = data[len(data)- len(data)/10:len(data)]\n",
    "\n",
    "    \n",
    "testFeatures = np.array([x for x,_ in testData])\n",
    "testClasses = np.array([c for _,c in testData]) \n",
    "\n",
    "testclassesNum = len(set(trainClasses))\n",
    "testfeaturesNum = testFeatures.shape[0]\n",
    "\n",
    "testTargets = np.zeros((testfeaturesNum,testclassesNum))\n",
    "\n",
    "for i in range(testfeaturesNum):\n",
    "    testTargets[i,testClasses[i]] = 1\n",
    "    \n",
    "\n",
    "alphas = np.array([float(i)/10 for i in range(1,10)])\n",
    "precisions = np.zeros(alphas.shape[0])\n",
    "p = mPerceptron(trainFeatures,trainTargets)\n",
    "\n",
    "for i in range(20):\n",
    "    for a in alphas:\n",
    "        p.train(a,20)\n",
    "        cm,pr = p.test(testFeatures,testTargets)\n",
    "        precisions[np.where(alphas == a)] += pr\n",
    "\n",
    "precisions /=19\n",
    "    \n",
    "print alphas[precisions.argmax()]\n",
    "\n"
   ]
  },
  {
   "cell_type": "markdown",
   "metadata": {},
   "source": [
    "# La Cross-Validation"
   ]
  },
  {
   "cell_type": "code",
   "execution_count": null,
   "metadata": {
    "collapsed": false
   },
   "outputs": [],
   "source": [
    "precisions = np.zeros(9)\n",
    "for j in range(9):\n",
    "    trainData = np.concatenate((data[:divInd*j],data[divInd*j+divInd:]))\n",
    "    testData = data[divInd*j:divInd*j+divInd]\n",
    "    \n",
    "    trainFeatures = np.array([x for x,_ in trainData])\n",
    "    trainClasses = np.array([c for _,c in trainData]) \n",
    "\n",
    "    classesNum = len(set(trainClasses))\n",
    "    featuresNum = trainFeatures.shape[0]\n",
    "\n",
    "    trainTargets = np.zeros((featuresNum,classesNum))\n",
    "\n",
    "    for i in range(featuresNum):\n",
    "        trainTargets[i,trainClasses[i]] = 1\n",
    "\n",
    "    p = mPerceptron(trainFeatures,trainTargets)\n",
    "    p.train(0.1,20)\n",
    "    \n",
    "    testFeatures = np.array([x for x,_ in testData])\n",
    "    testClasses = np.array([c for _,c in testData]) \n",
    "\n",
    "    testclassesNum = len(set(trainClasses))\n",
    "    testfeaturesNum = testFeatures.shape[0]\n",
    "\n",
    "    testTargets = np.zeros((testfeaturesNum,testclassesNum))\n",
    "\n",
    "    for i in range(testfeaturesNum):\n",
    "        testTargets[i,testClasses[i]] = 1\n",
    "\n",
    "    cm,pr = p.test(testFeatures,testTargets)\n",
    "    precisions[j] = pr\n"
   ]
  },
  {
   "cell_type": "code",
   "execution_count": null,
   "metadata": {
    "collapsed": false
   },
   "outputs": [],
   "source": [
    "print np.mean(precisions)"
   ]
  },
  {
   "cell_type": "code",
   "execution_count": null,
   "metadata": {
    "collapsed": true
   },
   "outputs": [],
   "source": []
  }
 ],
 "metadata": {
  "kernelspec": {
   "display_name": "Python 2",
   "language": "python",
   "name": "python2"
  },
  "language_info": {
   "codemirror_mode": {
    "name": "ipython",
    "version": 2
   },
   "file_extension": ".py",
   "mimetype": "text/x-python",
   "name": "python",
   "nbconvert_exporter": "python",
   "pygments_lexer": "ipython2",
   "version": "2.7.10"
  }
 },
 "nbformat": 4,
 "nbformat_minor": 0
}
