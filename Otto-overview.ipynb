{
 "cells": [
  {
   "cell_type": "markdown",
   "metadata": {},
   "source": [
    "# Title"
   ]
  },
  {
   "cell_type": "code",
   "execution_count": null,
   "metadata": {
    "collapsed": false
   },
   "outputs": [],
   "source": [
    "%matplotlib inline\n",
    "from __future__ import division, print_function\n",
    "\n",
    "import matplotlib\n",
    "import sklearn.cross_validation\n",
    "import itertools\n",
    "\n",
    "import numpy as np\n",
    "import pandas as pd\n",
    "import matplotlib as mplt\n",
    "import matplotlib.pyplot as plt\n",
    "import matplotlib.patches as mpatches\n"
   ]
  },
  {
   "cell_type": "code",
   "execution_count": null,
   "metadata": {
    "collapsed": true
   },
   "outputs": [],
   "source": [
    "filename = \"Data/train.csv\""
   ]
  },
  {
   "cell_type": "markdown",
   "metadata": {},
   "source": [
    "### Get the data"
   ]
  },
  {
   "cell_type": "code",
   "execution_count": null,
   "metadata": {
    "collapsed": false
   },
   "outputs": [],
   "source": [
    "data = pd.read_csv(filename, index_col=0)\n",
    "print(set(data.dtypes))\n",
    "\n",
    "X = np.array(data.ix[:,0:-1])\n",
    "labels = np.array(data.ix[:,-1])\n",
    "classes = np.unique(labels)\n",
    "print(\"Classes :\",\", \".join(classes))\n"
   ]
  },
  {
   "cell_type": "code",
   "execution_count": null,
   "metadata": {
    "collapsed": false
   },
   "outputs": [],
   "source": [
    "X = np.log(1+X)"
   ]
  },
  {
   "cell_type": "markdown",
   "metadata": {},
   "source": [
    "### Plot function"
   ]
  },
  {
   "cell_type": "code",
   "execution_count": null,
   "metadata": {
    "collapsed": true
   },
   "outputs": [],
   "source": [
    "def get_feature_distrib(feature, bins=None, log=False, **kwargs):\n",
    "    if bins is None:\n",
    "        bins = np.linspace(X[:,feature].min(), X[:,feature].max(), 15)\n",
    "        \n",
    "    x = [X[np.where(labels==c), feature].flatten() for c in classes]\n",
    "    \n",
    "    fig, ax = plt.subplots()\n",
    "    ax.hist(x, bins, stacked=True, log=log)\n",
    "    \n",
    "    patches = [mpatches.Patch(label=l, color=c) \n",
    "               for l,c in zip(classes, itertools.cycle(mplt.rcParams['axes.color_cycle']))]\n",
    "    # red_patch = mpatches.Patch(color='blue', label='Signals')\n",
    "    # blue_patch = mpatches.Patch(color='red', label='Background')\n",
    "    plt.legend(bbox_to_anchor=(1.05, 1), loc=2, borderaxespad=0., handles=patches)\n",
    "\n",
    "    ax.set_title('Class distribution for feature '+str(feature))\n",
    "    y_label = 'Count'\n",
    "    if log:\n",
    "        y_label = 'Count (log scale)'\n",
    "    ax.set_ylabel(y_label)\n",
    "    ax.set_xlabel(u'Feature n°'+str(feature))\n",
    "    return fig, ax\n",
    "\n",
    "def plot_feature_distrib(*args, **kwargs):\n",
    "    fig, ax = get_feature_distrib(*args, **kwargs)\n",
    "    plt.tight_layout()\n",
    "    plt.show()\n",
    "    plt.close(fig)\n",
    "    \n",
    "def save_feature_distrib(*args, **kwargs):\n",
    "    fig, ax = get_feature_distrib(*args, **kwargs)\n",
    "    plt.tight_layout()\n",
    "    plt.savefig(kwargs['fname'], bbox_inches='tight')\n",
    "    plt.close(fig)"
   ]
  },
  {
   "cell_type": "code",
   "execution_count": null,
   "metadata": {
    "collapsed": false
   },
   "outputs": [],
   "source": [
    "feature = 1\n",
    "plot_feature_distrib(2, bins=np.linspace(1, X[:,feature].max(), 15))"
   ]
  },
  {
   "cell_type": "markdown",
   "metadata": {},
   "source": [
    "### Save every distribution plot in a directory"
   ]
  },
  {
   "cell_type": "raw",
   "metadata": {
    "collapsed": false
   },
   "source": [
    "output_dir = 'Output/Class_distrib/'\n",
    "for feature in range(X.shape[1]):\n",
    "    fname = output_dir+'Class_distribution_of_feature_{0}'.format(feature)\n",
    "    save_feature_distrib(feature, fname=fname, bins=np.linspace(1, X[:,feature].max(), 15))\n",
    "print(\"Done\")"
   ]
  },
  {
   "cell_type": "markdown",
   "metadata": {
    "collapsed": true
   },
   "source": [
    "## Covariance\n",
    "\n"
   ]
  },
  {
   "cell_type": "code",
   "execution_count": null,
   "metadata": {
    "collapsed": false
   },
   "outputs": [],
   "source": [
    "print(X.shape)\n",
    "t = np.array(np.where(np.abs(np.corrcoef(X, rowvar=0))>0.7)).T\n",
    "cov = t[np.where(t[:,0]-t[:,1]!=0)]\n",
    "#print(cov)\n",
    "print(cov.shape[0], \"liaisons\")"
   ]
  },
  {
   "cell_type": "code",
   "execution_count": null,
   "metadata": {
    "collapsed": false
   },
   "outputs": [],
   "source": [
    "limits = np.linspace(0.1,1)\n",
    "n_corr = np.zeros(limits.shape)\n",
    "corr = np.corrcoef(X, rowvar=0)\n",
    "for i in range(limits.shape[0]):\n",
    "    limit = limits[i]\n",
    "    t = np.array(np.where(np.sign(limit)*corr>np.sign(limit)*limit)).T\n",
    "    n_corr[i] = t[np.where(t[:,0]-t[:,1]!=0)].shape[0]\n",
    "\n",
    "plt.plot(limits, n_corr)\n",
    "plt.xlabel(\"limit\")\n",
    "plt.ylabel(\"number of liaison\")\n",
    "plt.yscale('log')\n",
    "plt.show()\n",
    "print(93*92)"
   ]
  },
  {
   "cell_type": "code",
   "execution_count": null,
   "metadata": {
    "collapsed": false
   },
   "outputs": [],
   "source": []
  },
  {
   "cell_type": "code",
   "execution_count": null,
   "metadata": {
    "collapsed": true
   },
   "outputs": [],
   "source": []
  }
 ],
 "metadata": {
  "kernelspec": {
   "display_name": "Python 2",
   "language": "python",
   "name": "python2"
  },
  "language_info": {
   "codemirror_mode": {
    "name": "ipython",
    "version": 2
   },
   "file_extension": ".py",
   "mimetype": "text/x-python",
   "name": "python",
   "nbconvert_exporter": "python",
   "pygments_lexer": "ipython2",
   "version": "2.7.10"
  }
 },
 "nbformat": 4,
 "nbformat_minor": 0
}
