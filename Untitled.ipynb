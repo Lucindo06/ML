{
 "cells": [
  {
   "cell_type": "code",
   "execution_count": 1,
   "metadata": {
    "collapsed": false
   },
   "outputs": [
    {
     "name": "stdout",
     "output_type": "stream",
     "text": [
      "61820\n"
     ]
    }
   ],
   "source": [
    "import numpy as np\n",
    "import csv\n",
    "\n",
    "\n",
    "data = []\n",
    "for k in range(10):\n",
    "   \n",
    "    with open('Data/otto%i.csv'%k, 'rb') as trainFile:\n",
    "        reader = csv.reader(trainFile)\n",
    "        i = 0\n",
    "        reader.next()\n",
    "        for r in reader:\n",
    "            data.append((np.array((r[:len(r) - 1])).astype(float),np.array(r[len(r) - 1]).astype(float).astype(int)))\n",
    "            \n",
    "        \n",
    "\n",
    "        \n",
    "            \n"
   ]
  },
  {
   "cell_type": "markdown",
   "metadata": {},
   "source": [
    "# Premier test"
   ]
  },
  {
   "cell_type": "code",
   "execution_count": 3,
   "metadata": {
    "collapsed": true
   },
   "outputs": [],
   "source": [
    "datanum = len(data)\n",
    "trainData = data[:datanum - datanum/10]\n",
    "trainClasses = np.array([c for _,c in trainData]) \n",
    "trainFeatures = np.array([x for x,_ in trainData])\n",
    "testData = data[datanum - datanum/10:datanum]\n",
    "testFeatures = np.array([x for x,_ in testData])\n",
    "testClasses = np.array([c for _,c in testData]) \n",
    "\n",
    "testclassesNum = len(set(trainClasses))\n",
    "testfeaturesNum = testFeatures.shape[0]"
   ]
  },
  {
   "cell_type": "code",
   "execution_count": 7,
   "metadata": {
    "collapsed": false
   },
   "outputs": [
    {
     "data": {
      "text/plain": [
       "SVC(C=10, cache_size=200, class_weight=None, coef0=0.0, degree=3, gamma=0.01,\n",
       "  kernel='linear', max_iter=-1, probability=False, random_state=None,\n",
       "  shrinking=True, tol=0.001, verbose=False)"
      ]
     },
     "execution_count": 7,
     "metadata": {},
     "output_type": "execute_result"
    }
   ],
   "source": [
    "from sklearn import svm\n",
    "from sklearn import metrics\n",
    "\n",
    "classifier = svm.SVC(gamma=0.01,C=10,kernel='linear')\n",
    "classifier.fit(trainFeatures,trainClasses)"
   ]
  },
  {
   "cell_type": "code",
   "execution_count": null,
   "metadata": {
    "collapsed": true
   },
   "outputs": [],
   "source": []
  }
 ],
 "metadata": {
  "kernelspec": {
   "display_name": "Python 2",
   "language": "python",
   "name": "python2"
  },
  "language_info": {
   "codemirror_mode": {
    "name": "ipython",
    "version": 2
   },
   "file_extension": ".py",
   "mimetype": "text/x-python",
   "name": "python",
   "nbconvert_exporter": "python",
   "pygments_lexer": "ipython2",
   "version": "2.7.10"
  }
 },
 "nbformat": 4,
 "nbformat_minor": 0
}
