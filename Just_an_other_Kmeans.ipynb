{
 "cells": [
  {
   "cell_type": "code",
   "execution_count": 5,
   "metadata": {
    "collapsed": false
   },
   "outputs": [],
   "source": [
    "import numpy as np\n",
    "\n",
    "class Kmeans:\n",
    "    \n",
    "    def __init__(self,k):\n",
    "        \n",
    "        self.k = k\n",
    "        \n",
    "    def eucDist(self,x1,x2):\n",
    "        result = np.sqrt(np.sum(np.power(x1-x2,2)))\n",
    "        return result\n",
    "    \n",
    "    def createRandCenters(self,data):\n",
    "        k = self.k\n",
    "        dim = data.shape[1]\n",
    "        centers = np.mat(np.zeros((k,dim)))\n",
    "        \n",
    "        for i in range(dim):\n",
    "            mini = np.min(data[:,i])\n",
    "            borne = np.max(data[:,i]) - mini\n",
    "            \n",
    "            centers[:,i] = mini + borne*np.random.rand(k,1)\n",
    "            \n",
    "        return centers\n",
    "    \n",
    "    \n",
    "    def train(self,data,maxit):\n",
    "        k = self.k\n",
    "        ndata = data.shape[0]\n",
    "        self.centers = self.createRandCenters(data)\n",
    "        clusterChanged = True\n",
    "        clusterAs = np.zeros((ndata,2))\n",
    "        it = 0\n",
    "        while(clusterChanged and it < maxit):\n",
    "            it += 1\n",
    "            clusterChanged = False\n",
    "            for i in range(ndata):\n",
    "                minDist = np.inf\n",
    "                minIndex = -1\n",
    "                \n",
    "                for j in range(k):\n",
    "                    dist = self.eucDist(self.centers[j,:],data[i,:])\n",
    "                    if(dist < minDist):\n",
    "                        minDist = dist\n",
    "                        minIndex = j\n",
    "                        \n",
    "                if(clusterAs[i,0] != minIndex):\n",
    "                    clusterChanged = True\n",
    "                    \n",
    "                \n",
    "                clusterAs[i,:] = minIndex\n",
    "                \n",
    "                for j in range(k):\n",
    "                    \n",
    "                    points = data[np.where(clusterAs[:,0] == j)[0]]\n",
    "                    self.centers[j,:] = np.mean(points, axis=0)\n",
    "       \n",
    "        "
   ]
  },
  {
   "cell_type": "code",
   "execution_count": 2,
   "metadata": {
    "collapsed": false
   },
   "outputs": [
    {
     "name": "stdout",
     "output_type": "stream",
     "text": [
      "61820\n"
     ]
    }
   ],
   "source": [
    "\n",
    "import numpy as np\n",
    "import csv\n",
    "\n",
    "\n",
    "data = []\n",
    "for k in range(10):\n",
    "   \n",
    "    with open('Data/otto%i.csv'%k, 'rb') as trainFile:\n",
    "        reader = csv.reader(trainFile)\n",
    "        i = 0\n",
    "        reader.next()\n",
    "        for r in reader:\n",
    "            data.append((np.array((r[:len(r) - 1])).astype(float),np.array(r[len(r) - 1]).astype(float).astype(int)))\n",
    "            \n",
    "        \n",
    "\n",
    "        \n",
    "            \n",
    "print len(data)"
   ]
  },
  {
   "cell_type": "code",
   "execution_count": 6,
   "metadata": {
    "collapsed": false
   },
   "outputs": [],
   "source": [
    "datanum = len(data)\n",
    "trainData = data[:datanum - datanum/10]\n",
    "trainClasses = np.array([c for _,c in trainData]) \n",
    "trainFeatures = np.array([x for x,_ in trainData])\n",
    "\n",
    "nbClust = 9\n",
    "model = Kmeans(nbClust)"
   ]
  },
  {
   "cell_type": "code",
   "execution_count": null,
   "metadata": {
    "collapsed": false
   },
   "outputs": [],
   "source": [
    "model.train(trainFeatures,10)"
   ]
  },
  {
   "cell_type": "code",
   "execution_count": null,
   "metadata": {
    "collapsed": true
   },
   "outputs": [],
   "source": []
  }
 ],
 "metadata": {
  "kernelspec": {
   "display_name": "Python 2",
   "language": "python",
   "name": "python2"
  },
  "language_info": {
   "codemirror_mode": {
    "name": "ipython",
    "version": 2
   },
   "file_extension": ".py",
   "mimetype": "text/x-python",
   "name": "python",
   "nbconvert_exporter": "python",
   "pygments_lexer": "ipython2",
   "version": "2.7.10"
  }
 },
 "nbformat": 4,
 "nbformat_minor": 0
}
