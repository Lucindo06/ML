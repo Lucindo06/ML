{
 "cells": [
  {
   "cell_type": "code",
   "execution_count": 1,
   "metadata": {
    "collapsed": false
   },
   "outputs": [],
   "source": [
    "class GBayes:\n",
    "    \n",
    "    def __init__(self,features,classes):\n",
    "        \n",
    "        numtrainData = len(features)\n",
    "        numClasses = len(np.unique(classes))\n",
    "\n",
    "        nums = np.zeros(numClasses)\n",
    "\n",
    "        u = np.zeros((numClasses,features.shape[1]),float)\n",
    "        var = np.zeros((numClasses,features.shape[1]),float)\n",
    "\n",
    "        for i in range(numtrainData):\n",
    "            nums[classes[i]] +=1\n",
    "            u[classes[i]] += features[i]\n",
    "\n",
    "        u = u/nums[:,np.newaxis]   \n",
    "\n",
    "        for i in range(numtrainData):\n",
    "            var[classes[i]] += (features[i] - u[classes[i]])**2\n",
    "\n",
    "        var = var / nums[:,np.newaxis]\n",
    "        \n",
    "        self.u = u\n",
    "        self.var = var\n",
    "        self.numClasses = len(np.unique(classes))\n",
    "        \n",
    "    def predict(self,f):\n",
    "        \n",
    "        p = np.zeros((self.numClasses),float)\n",
    "        r = []\n",
    "        \n",
    "        for x in f :\n",
    "            for i in range(len(p)):\n",
    "                p[i] = (1.0/np.sqrt(2*np.pi*(np.linalg.norm(self.var[i]))))*np.exp(-(np.linalg.norm((x-self.u[i])**2))/(2*np.linalg.norm(self.var[i])))\n",
    "\n",
    "            r.append(np.argmax(p))\n",
    "\n",
    "        return np.array(r)"
   ]
  },
  {
   "cell_type": "code",
   "execution_count": 2,
   "metadata": {
    "collapsed": true
   },
   "outputs": [],
   "source": [
    "import numpy as np\n",
    "import csv\n",
    "\n",
    "\n",
    "data = []\n",
    "for k in range(10):\n",
    "   \n",
    "    with open('Data/otto%i.csv'%k, 'rb') as trainFile:\n",
    "        reader = csv.reader(trainFile)\n",
    "        i = 0\n",
    "        reader.next()\n",
    "        for r in reader:\n",
    "            data.append((np.array((r[:len(r) - 1])).astype(float),np.array(r[len(r) - 1]).astype(float).astype(int)))\n",
    "            \n",
    "        \n",
    "datanum = len(data)\n",
    "trainData = data[:datanum - datanum/10]\n",
    "trainClasses = np.array([c for _,c in trainData]) \n",
    "trainFeatures = np.array([x for x,_ in trainData])\n",
    "testData = data[datanum - datanum/10:datanum]\n",
    "testFeatures = np.array([x for x,_ in testData])\n",
    "testClasses = np.array([c for _,c in testData]) \n",
    "\n",
    "testclassesNum = len(set(trainClasses))\n",
    "testfeaturesNum = testFeatures.shape[0]"
   ]
  },
  {
   "cell_type": "code",
   "execution_count": 3,
   "metadata": {
    "collapsed": false
   },
   "outputs": [],
   "source": [
    "model = GBayes(trainFeatures,trainClasses)\n",
    "pred = model.predict(testFeatures)\n"
   ]
  },
  {
   "cell_type": "code",
   "execution_count": 4,
   "metadata": {
    "collapsed": false
   },
   "outputs": [
    {
     "name": "stdout",
     "output_type": "stream",
     "text": [
      "('Classification report for classifie', 0.40747330960854095)\n"
     ]
    }
   ],
   "source": [
    "from sklearn import metrics \n",
    "print(\"Classification report for classifie\" , metrics.accuracy_score(testClasses,pred))"
   ]
  },
  {
   "cell_type": "markdown",
   "metadata": {},
   "source": [
    "# Cross Validation"
   ]
  },
  {
   "cell_type": "code",
   "execution_count": 7,
   "metadata": {
    "collapsed": false
   },
   "outputs": [
    {
     "name": "stdout",
     "output_type": "stream",
     "text": [
      "0.40991768216\n"
     ]
    }
   ],
   "source": [
    "from sklearn import metrics\n",
    "precisions = np.zeros(9)\n",
    "divInd =  datanum/10\n",
    "data = np.concatenate((data[:datanum - datanum/10],data[datanum - datanum/10:datanum]),axis=0)\n",
    "\n",
    "for j in range(9):\n",
    "    trainData = np.concatenate((data[:divInd*j],data[divInd*j+divInd:]))\n",
    "    testData = data[divInd*j:divInd*j+divInd]\n",
    "    \n",
    "    \n",
    "    trainFeatures = np.array([x for x,_ in trainData])\n",
    "    trainClasses = np.array([c for _,c in trainData]) \n",
    "\n",
    "    trainFeatures = trainFeatures\n",
    "    classesNum = len(set(trainClasses))\n",
    "    featuresNum = trainFeatures.shape[0]\n",
    "\n",
    "    trainTargets = np.zeros((featuresNum,classesNum))\n",
    "\n",
    "    for i in range(featuresNum):\n",
    "        trainTargets[i,trainClasses[i]] = 1\n",
    "\n",
    "    model = GBayes(trainFeatures,trainClasses)\n",
    "    \n",
    "    testFeatures = np.array([x for x,_ in testData])\n",
    "    testClasses = np.array([c for _,c in testData]) \n",
    "\n",
    "    pred = model.predict(testFeatures)\n",
    "   \n",
    "    precisions[j] = metrics.accuracy_score(testClasses,pred)\n",
    "    \n",
    "print np.mean(precisions)"
   ]
  },
  {
   "cell_type": "code",
   "execution_count": null,
   "metadata": {
    "collapsed": true
   },
   "outputs": [],
   "source": []
  }
 ],
 "metadata": {
  "kernelspec": {
   "display_name": "Python 2",
   "language": "python",
   "name": "python2"
  },
  "language_info": {
   "codemirror_mode": {
    "name": "ipython",
    "version": 2
   },
   "file_extension": ".py",
   "mimetype": "text/x-python",
   "name": "python",
   "nbconvert_exporter": "python",
   "pygments_lexer": "ipython2",
   "version": "2.7.10"
  }
 },
 "nbformat": 4,
 "nbformat_minor": 0
}
